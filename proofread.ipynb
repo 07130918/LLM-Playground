{
  "cells": [
    {
      "cell_type": "code",
      "execution_count": null,
      "metadata": {
        "colab": {
          "base_uri": "https://localhost:8080/"
        },
        "id": "mW2kuie5rlJZ",
        "outputId": "6d9ca997-e320-499f-c496-013d3b642f82"
      },
      "outputs": [],
      "source": [
        "!pip install langchain\n",
        "!pip install openai"
      ]
    },
    {
      "cell_type": "code",
      "execution_count": null,
      "metadata": {
        "id": "O9-vqNNstK4R"
      },
      "outputs": [],
      "source": [
        "import os\n",
        "from datetime import datetime\n",
        "\n",
        "from langchain import LLMChain\n",
        "from langchain.chat_models import ChatOpenAI\n",
        "from langchain.prompts.chat import (ChatPromptTemplate,\n",
        "                                    HumanMessagePromptTemplate,\n",
        "                                    SystemMessagePromptTemplate)"
      ]
    },
    {
      "cell_type": "code",
      "execution_count": null,
      "metadata": {
        "id": "ldZAqPJ-tcdo"
      },
      "outputs": [],
      "source": [
        "os.environ[\"OPENAI_API_KEY\"] = \"\""
      ]
    },
    {
      "cell_type": "code",
      "execution_count": null,
      "metadata": {
        "id": "avWSUebkrqCN"
      },
      "outputs": [],
      "source": [
        "# 学習したい言語\n",
        "LANGUAGE = \"English\""
      ]
    },
    {
      "cell_type": "code",
      "execution_count": null,
      "metadata": {
        "id": "Y5j-gtIptRtg"
      },
      "outputs": [],
      "source": [
        "# ここに校正してほしい文章を入力してください。(現在は日記が入力されることを想定しています。)\n",
        "JOURNAL = \"\"\"\n",
        "If you get 3 million USD, what will you do ?\n",
        "\n",
        "At first I move to countryside and Ill decide Im gonna live without any pressers \n",
        "Probably I would\tread a lot and watch movies \n",
        "Sometimes Im gonna plan to go to cities to hung out with my friends \n",
        "But I think its hard to hide having 3 million...\n",
        "I don't want everyone to notice I have money enough to live\n",
        "if I can't hide that kinda things somebody might tell someone this information\n",
        "\n",
        "At the end of my life I must be still having lots of money Ill donate all of my money for kids and animals, kids live in developing countries  \n",
        "\"\"\""
      ]
    },
    {
      "cell_type": "code",
      "execution_count": null,
      "metadata": {
        "id": "rHWMMjC9sRki"
      },
      "outputs": [],
      "source": [
        "def main():\n",
        "    \"\"\"proofread journaling\n",
        "\n",
        "    Returns:\n",
        "        str: response from GPT-3\n",
        "    \"\"\"\n",
        "\n",
        "    assistant_template = \"You are a helpful and capable assistant who can behave as a native {language} speaker.\"\n",
        "    user_template = \"\"\"\n",
        "    I'm looking for someone who can play the role of a native {language} speaker and teacher.\n",
        "    I'm Japanese and currently learning {language} as my second language.\n",
        "    I've written a journal and I'd appreciate it if you could review it and correct it to sound more natural and accurate.\n",
        "\n",
        "    Also, You must write each sentence on a new line.\n",
        "\n",
        "    For example, if the sentences are like this:\n",
        "    ###\n",
        "    I want to improve my English skills. Besides, I would love to have friends who speak fluent English.\n",
        "    ###\n",
        "\n",
        "    I'd like your response to be something like this:\n",
        "    ###\n",
        "    I'm eager to enhance my English proficiency.\n",
        "\n",
        "    Additionally, I'd also really enjoy making friends with those who are fluent in English.\n",
        "    ###\n",
        "\n",
        "    Today's journal: {journal}\n",
        "    Your answer:\n",
        "    \"\"\"\n",
        "\n",
        "    # クリエイティブな文章を生成するため、temperatureを1に設定\n",
        "    # modelはgpt-4に変更予定\n",
        "    gpt = ChatOpenAI(model=\"gpt-3.5-turbo\", temperature=1, client=None)\n",
        "\n",
        "    assistant_prompt = SystemMessagePromptTemplate.from_template(assistant_template)\n",
        "    user_prompt = HumanMessagePromptTemplate.from_template(user_template)\n",
        "    chat_prompt = ChatPromptTemplate.from_messages([assistant_prompt, user_prompt])\n",
        "\n",
        "    chain = LLMChain(llm=gpt, prompt=chat_prompt)\n",
        "    response = chain.run(language=LANGUAGE, journal=JOURNAL)\n",
        "    return response"
      ]
    },
    {
      "cell_type": "code",
      "execution_count": null,
      "metadata": {
        "colab": {
          "base_uri": "https://localhost:8080/"
        },
        "id": "7_Js2qa8thUR",
        "outputId": "458e7d21-0dc0-4378-fda1-bab8603943c8"
      },
      "outputs": [],
      "source": [
        "if __name__ == '__main__':\n",
        "    response = main()\n",
        "    print(\"-\" * 30)\n",
        "    print(response)\n",
        "    print(\"-\" * 30)"
      ]
    }
  ],
  "metadata": {
    "colab": {
      "provenance": []
    },
    "kernelspec": {
      "display_name": "Python 3",
      "name": "python3"
    },
    "language_info": {
      "name": "python",
      "version": "3.10.11"
    }
  },
  "nbformat": 4,
  "nbformat_minor": 0
}
